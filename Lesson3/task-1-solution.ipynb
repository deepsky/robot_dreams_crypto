{
 "cells": [
  {
   "cell_type": "code",
   "execution_count": 1,
   "id": "c2de5414-29f8-4691-865b-ab2af70a061b",
   "metadata": {},
   "outputs": [],
   "source": [
    "from binascii import hexlify\n",
    "import requests\n",
    "import json"
   ]
  },
  {
   "cell_type": "code",
   "execution_count": 3,
   "id": "9bc97264-816e-4065-9713-7cae7d5ab1c9",
   "metadata": {},
   "outputs": [],
   "source": [
    "def encrypt(pt):\n",
    "    p = hexlify(pt).decode()\n",
    "    url = \"http://aes.cryptohack.org/ecb_oracle/encrypt/\" + p\n",
    "    r = requests.get(url)\n",
    "    ct = (json.loads(r.text))[\"ciphertext\"]\n",
    "    return ct"
   ]
  },
  {
   "cell_type": "markdown",
   "id": "e877d4ff-4d55-4afc-8b67-db0c8b1805f3",
   "metadata": {},
   "source": [
    "### Calculate the length ot the FLAG"
   ]
  },
  {
   "cell_type": "code",
   "execution_count": 127,
   "id": "9748d075-62a6-42b7-af2c-ff7fe5bb048c",
   "metadata": {},
   "outputs": [
    {
     "data": {
      "text/plain": [
       "(1, 32.0, '4336bea8dfb42b3612b9eb7a0751fbdd7a55b6b6959613d98c9b0976d44818a6')"
      ]
     },
     "execution_count": 127,
     "metadata": {},
     "output_type": "execute_result"
    }
   ],
   "source": [
    "text = b\"H\"\n",
    "cipher = encrypt(text)\n",
    "len(text), len(cipher)/2, cipher"
   ]
  },
  {
   "cell_type": "code",
   "execution_count": 128,
   "id": "fae1446f-5c1f-46b4-86c5-f4c80b87763c",
   "metadata": {},
   "outputs": [
    {
     "data": {
      "text/plain": [
       "(6, 32.0, 'a90bceedffa1c57b7a517ceedfda8e85fac6384ae001fa81a159497827cea8b1')"
      ]
     },
     "execution_count": 128,
     "metadata": {},
     "output_type": "execute_result"
    }
   ],
   "source": [
    "text = b\"Heaaqq\"\n",
    "cipher = encrypt(text)\n",
    "len(text), len(cipher)/2, cipher"
   ]
  },
  {
   "cell_type": "code",
   "execution_count": 129,
   "id": "1e63dc3d-4a5a-435c-95b9-15147ceb534d",
   "metadata": {},
   "outputs": [
    {
     "data": {
      "text/plain": [
       "(7,\n",
       " 48.0,\n",
       " 'c8de9dfb6f1e3adaa3322134ae9f53ba434922b13621857cef31d035e6ffb0c59863b1089f6206d6e75e071a1d6574e4')"
      ]
     },
     "execution_count": 129,
     "metadata": {},
     "output_type": "execute_result"
    }
   ],
   "source": [
    "text = b\"Heaaqqw\"\n",
    "cipher = encrypt(text)\n",
    "len(text), len(cipher)/2, cipher"
   ]
  },
  {
   "cell_type": "code",
   "execution_count": 130,
   "id": "6e5eaf3b-ed16-45bb-908c-309eb13308ea",
   "metadata": {},
   "outputs": [
    {
     "data": {
      "text/plain": [
       "(22,\n",
       " 48.0,\n",
       " 'fd9afbcb2f810e7cb5904e75b9b16534200fe550a3cd509d667b2bdea4cd9209fac6384ae001fa81a159497827cea8b1')"
      ]
     },
     "execution_count": 130,
     "metadata": {},
     "output_type": "execute_result"
    }
   ],
   "source": [
    "text = b\"Haannnnmmmneeeeemmmaa2\"\n",
    "cipher = encrypt(text)\n",
    "len(text), len(cipher)/2, cipher"
   ]
  },
  {
   "cell_type": "code",
   "execution_count": 43,
   "id": "08f14edc-7abe-40bb-a41a-f247931d9ca0",
   "metadata": {},
   "outputs": [
    {
     "name": "stdout",
     "output_type": "stream",
     "text": [
      "FLAG length: 26\n"
     ]
    }
   ],
   "source": [
    "FLAG_LEN = 32 - 6\n",
    "print(f\"FLAG length: {FLAG_LEN}\")"
   ]
  },
  {
   "cell_type": "markdown",
   "id": "f117f82c-f47a-4a79-a024-97c65e325540",
   "metadata": {},
   "source": [
    "### Guess characters of the FLAG one by one"
   ]
  },
  {
   "cell_type": "code",
   "execution_count": null,
   "id": "b8a62d52-c9a7-4c62-9fae-40b512bc4b95",
   "metadata": {},
   "outputs": [],
   "source": [
    "# 48 - '0'\n",
    "# 49 - '1'\n",
    "# 65 - 'A'\n",
    "\n",
    "# 97 - a\n",
    "# 122 - z"
   ]
  },
  {
   "cell_type": "code",
   "execution_count": 119,
   "id": "fe6d87d0-df49-4890-b258-248739c6f879",
   "metadata": {},
   "outputs": [
    {
     "data": {
      "text/plain": [
       "31"
      ]
     },
     "execution_count": 119,
     "metadata": {},
     "output_type": "execute_result"
    }
   ],
   "source": [
    "text31 = b\"0123456789abcdefghtyjukilopaqzx\"\n",
    "len(text31)"
   ]
  },
  {
   "cell_type": "code",
   "execution_count": 122,
   "id": "b27f0924-9989-4f48-a5ba-a24183300f17",
   "metadata": {},
   "outputs": [
    {
     "name": "stdout",
     "output_type": "stream",
     "text": [
      "text31: b'0123456789abcdefghtyjukilopaqzx'\n",
      "Position: 0 char: 'c' FLAG: 'c'\n",
      "text31: b'123456789abcdefghtyjukilopaqzx'\n",
      "Position: 1 char: 'r' FLAG: 'cr'\n",
      "text31: b'23456789abcdefghtyjukilopaqzx'\n",
      "Position: 2 char: 'y' FLAG: 'cry'\n",
      "text31: b'3456789abcdefghtyjukilopaqzx'\n",
      "Position: 3 char: 'p' FLAG: 'cryp'\n",
      "text31: b'456789abcdefghtyjukilopaqzx'\n",
      "Position: 4 char: 't' FLAG: 'crypt'\n",
      "text31: b'56789abcdefghtyjukilopaqzx'\n",
      "Position: 5 char: 'o' FLAG: 'crypto'\n",
      "text31: b'6789abcdefghtyjukilopaqzx'\n",
      "Position: 6 char: '{' FLAG: 'crypto{'\n",
      "text31: b'789abcdefghtyjukilopaqzx'\n",
      "Position: 7 char: 'p' FLAG: 'crypto{p'\n",
      "text31: b'89abcdefghtyjukilopaqzx'\n",
      "Position: 8 char: '3' FLAG: 'crypto{p3'\n",
      "text31: b'9abcdefghtyjukilopaqzx'\n",
      "Position: 9 char: 'n' FLAG: 'crypto{p3n'\n",
      "text31: b'abcdefghtyjukilopaqzx'\n",
      "Position: 10 char: '6' FLAG: 'crypto{p3n6'\n",
      "text31: b'bcdefghtyjukilopaqzx'\n",
      "Position: 11 char: 'u' FLAG: 'crypto{p3n6u'\n",
      "text31: b'cdefghtyjukilopaqzx'\n",
      "Position: 12 char: '1' FLAG: 'crypto{p3n6u1'\n",
      "text31: b'defghtyjukilopaqzx'\n",
      "Position: 13 char: 'n' FLAG: 'crypto{p3n6u1n'\n",
      "text31: b'efghtyjukilopaqzx'\n",
      "Position: 14 char: '5' FLAG: 'crypto{p3n6u1n5'\n",
      "text31: b'fghtyjukilopaqzx'\n",
      "Position: 15 char: '_' FLAG: 'crypto{p3n6u1n5_'\n",
      "text31: b'ghtyjukilopaqzx'\n",
      "Position: 16 char: 'h' FLAG: 'crypto{p3n6u1n5_h'\n",
      "text31: b'htyjukilopaqzx'\n",
      "Position: 17 char: '4' FLAG: 'crypto{p3n6u1n5_h4'\n",
      "text31: b'tyjukilopaqzx'\n",
      "Position: 18 char: '7' FLAG: 'crypto{p3n6u1n5_h47'\n",
      "text31: b'yjukilopaqzx'\n",
      "Position: 19 char: '3' FLAG: 'crypto{p3n6u1n5_h473'\n",
      "text31: b'jukilopaqzx'\n",
      "Position: 20 char: '_' FLAG: 'crypto{p3n6u1n5_h473_'\n",
      "text31: b'ukilopaqzx'\n",
      "Position: 21 char: '3' FLAG: 'crypto{p3n6u1n5_h473_3'\n",
      "text31: b'kilopaqzx'\n",
      "Position: 22 char: 'c' FLAG: 'crypto{p3n6u1n5_h473_3c'\n",
      "text31: b'ilopaqzx'\n",
      "Position: 23 char: 'b' FLAG: 'crypto{p3n6u1n5_h473_3cb'\n",
      "text31: b'lopaqzx'\n",
      "Position: 24 char: '}' FLAG: 'crypto{p3n6u1n5_h473_3cb}'\n",
      "text31: b'opaqzx'\n",
      "Position: 25 char: '\u0001' FLAG: 'crypto{p3n6u1n5_h473_3cb}\u0001'\n"
     ]
    }
   ],
   "source": [
    "FLAG = ''\n",
    "for i in range(26):\n",
    "    cipher = encrypt(text31)\n",
    "    second_block = cipher[32:64]\n",
    "    print(f\"text31: {text31}\")\n",
    "\n",
    "    # find the last character of the second block using brute force \n",
    "    for c in range(1,128):\n",
    "        text32 = text31 + c.to_bytes(1,'big') if len(FLAG) == 0 else text31 + FLAG.encode() + c.to_bytes(1,'big') \n",
    "        cipher = encrypt(text32)\n",
    "        if second_block == cipher[32:64]:\n",
    "            FLAG = FLAG + chr(c)\n",
    "            print(f\"Position: {i} char: '{chr(c)}' FLAG: '{FLAG}'\")\n",
    "            text31 = text31[1:]\n",
    "            break\n",
    "    "
   ]
  },
  {
   "cell_type": "markdown",
   "id": "67f1a864-fb45-41f4-b1df-edc20dccf195",
   "metadata": {},
   "source": [
    "## Resulting FLAG sequence"
   ]
  },
  {
   "cell_type": "code",
   "execution_count": 125,
   "id": "a1959386-f723-4287-94d7-00f078950b49",
   "metadata": {},
   "outputs": [
    {
     "data": {
      "text/plain": [
       "'crypto{p3n6u1n5_h473_3cb}'"
      ]
     },
     "execution_count": 125,
     "metadata": {},
     "output_type": "execute_result"
    }
   ],
   "source": [
    "FLAG[:-1]"
   ]
  }
 ],
 "metadata": {
  "kernelspec": {
   "display_name": "Python 3 (ipykernel)",
   "language": "python",
   "name": "python3"
  },
  "language_info": {
   "codemirror_mode": {
    "name": "ipython",
    "version": 3
   },
   "file_extension": ".py",
   "mimetype": "text/x-python",
   "name": "python",
   "nbconvert_exporter": "python",
   "pygments_lexer": "ipython3",
   "version": "3.10.12"
  }
 },
 "nbformat": 4,
 "nbformat_minor": 5
}
