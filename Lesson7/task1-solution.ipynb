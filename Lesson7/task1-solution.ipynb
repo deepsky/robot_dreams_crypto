{
 "cells": [
  {
   "cell_type": "code",
   "execution_count": 4,
   "id": "bd5f3ce5-1fec-4a68-8674-6422f1f6fc35",
   "metadata": {},
   "outputs": [],
   "source": [
    "from binascii import hexlify\n",
    "\n",
    "from cryptography.hazmat.primitives import hashes\n",
    "from cryptography.hazmat.primitives.asymmetric import dh\n",
    "from cryptography.hazmat.primitives.serialization import (\n",
    "    Encoding,\n",
    "    PrivateFormat,\n",
    "    NoEncryption,\n",
    ")\n",
    "from cryptography.hazmat.primitives.kdf.hkdf import HKDF"
   ]
  },
  {
   "cell_type": "code",
   "execution_count": 5,
   "id": "eb2c4f47-55b4-4439-8094-14eadd9889ee",
   "metadata": {},
   "outputs": [],
   "source": [
    "from cryptography.hazmat.primitives import serialization, hashes\n",
    "from cryptography.hazmat.primitives.asymmetric import rsa, padding"
   ]
  },
  {
   "cell_type": "markdown",
   "id": "0bd034c3-df3c-40ec-b85b-7bcb7e28ec78",
   "metadata": {},
   "source": [
    "### Generate DH paramaters"
   ]
  },
  {
   "cell_type": "code",
   "execution_count": 6,
   "id": "1d40ed5d-46b4-4859-b979-d225e83d46cf",
   "metadata": {},
   "outputs": [
    {
     "name": "stdout",
     "output_type": "stream",
     "text": [
      "Generating parameters...\n",
      "\n",
      "Module:\n",
      " 22010812045490892213697667632013057206201714936671414017966118477150296253225714736423713520127741929002772500501078475263107949271293637583019120985954939233533691784773713093969853942735666666575538200852595979649957952363089067153623690460466464386608934877678696849927863913848365452588019116239998694785552642669765225187647324986653400375365712939621957463402598956927454858079704559220393063379030775235733900756802704309348910390830358851328080707123329540745425099801154119447470875911903372928633192213671173809242540529577968845371750685781918999002441065382303360242031969842005087814664227857606015993319\n",
      "\n",
      "Gen: 2\n"
     ]
    }
   ],
   "source": [
    "print(\"Generating parameters...\")\n",
    "parameters = dh.generate_parameters(generator=2, key_size=2048)\n",
    "print(\"\\nModule:\\n\", parameters.parameter_numbers().p)\n",
    "print(\"\\nGen:\", parameters.parameter_numbers().g)"
   ]
  },
  {
   "cell_type": "markdown",
   "id": "c66af0cf-8b87-4917-a09d-39c07d1c6182",
   "metadata": {},
   "source": [
    "# Alice side"
   ]
  },
  {
   "cell_type": "markdown",
   "id": "b6a76b7d-0a05-42d8-8f6b-54b2ec94e5dc",
   "metadata": {},
   "source": [
    "### Generate DH public/private keys"
   ]
  },
  {
   "cell_type": "code",
   "execution_count": 42,
   "id": "833057ae-5854-47fd-9488-fd72e8e17b3d",
   "metadata": {},
   "outputs": [
    {
     "name": "stdout",
     "output_type": "stream",
     "text": [
      "Key size: 2048\n",
      "Key type: <class 'int'>\n",
      "Value: b'A^\\x92$\\'\\x92\\x015\\xe5\\x89-f%\\xa2\\x0f\\x146\\x90\\xf2)\\x88\\x1c\\x95\\xf1\\x99\\xcd\\x89\\x1e\\x19\\xc1m\\x1c\\xae\\xa9\\x9b-\\x8b\\x9e\\xa0\\xb3H}$\\x88\\x8cv\\xfb$r\\x80\\xb6\\xc1\\x07\\x1a\\x92\\xa0\\x13\\xc8\\xf9\\x05\\n\"d\\xbeM\\x8b\\xac=\\xe1r\\xbb\\x02a\\xd5\\xef\\x90\\xed\\xd2z\\xdd\\xcd\\x8a\\xff7\\x85\\xf3N\\x1b,Ss\\xfce?Y\\xc5\\xdf\\x00\\xcf\\r\\xb5\\xd3\\xf0\\xd4Yp\\xe3\\xc4\\x9e\\xe2\\xf6e\\xf3T>\\xd0\\x1c\\xb5\\xd3\\xde\\x03\\xea9\\xcc\\x9a\\xac6A\\x11\\xc6\\xfb\\xd2\\xae\\xe5K[\\xa0I\\x07\\xff}\\x80\\xc9\\x94\\x1b\\xd7\\x9e\\x9c\\xb8\\xb01\\xde\\xf2\\xa1ng\\x191\\x8e\\xe6\\xd0\\x92\\x1d:CYN\\x10\\x98TN\\xc9\\xa5\\xa5+\\xff\\xe0\\xc2\\x8e\\xe4\\x087cv\\x96\\x1b\\x90\\xb02\\tz\\xf0\\x86*\\xb7\\xa4aQ\\xea`\\xb6d\\x8f_\\xd8\\xd5\\x8d\\xeb\\xde\\x8d\\x92\\xa61\\tP\\xd8#\\xfcmoF\\x0cxw\\x035\\\\\\x89\\xbb\\xa0\\'\\x96\\xd7y\\x8d\\xcf\\x83v\\xf7.q\\xea\\x95D0\\x0e\\xc1\\x98\\xc1\\x89\\xc4\\xaard\\xd0\\x00'\n"
     ]
    }
   ],
   "source": [
    "alice_private_key = parameters.generate_private_key()  # a\n",
    "alice_public_key = alice_private_key.public_key()  # g^a\n",
    "alice_public_key_bytes = alice_public_key.public_numbers().y.to_bytes(2048 // 8, 'big')\n",
    "\n",
    "print(f\"Key size: {alice_public_key.key_size}\")\n",
    "print(f\"Key type: {type(alice_public_key.public_numbers().y)}\")\n",
    "print(f\"Value: {alice_public_key_bytes}\")"
   ]
  },
  {
   "cell_type": "markdown",
   "id": "9007c31c-cc3a-471c-9a27-0b6aed1ad5bb",
   "metadata": {},
   "source": [
    "### Generate RSA public/private pair"
   ]
  },
  {
   "cell_type": "code",
   "execution_count": 43,
   "id": "5772c6f7-5967-4086-bb91-edea91898073",
   "metadata": {},
   "outputs": [
    {
     "name": "stdout",
     "output_type": "stream",
     "text": [
      "b'-----BEGIN PUBLIC KEY-----\\nMIIBIjANBgkqhkiG9w0BAQEFAAOCAQ8AMIIBCgKCAQEAtqQxR6DVxWDIyRc5pK8n\\ngg8F8dGL/w+RnlMsXADBEvv9mjK7m9Yo0prgTqcDQeJ6jTX7Stvq47jJQ0fC362j\\nYKk8oe5gpFUKfsYkJuxtlPYJX0Gp0NJZds9o/CDsf6roHhCgSlV7M5W6swdEZ5gV\\n1fzCYBoMM0Xk229DQxKcE3C+jTVcUv+c7bBB6gPCOu/UWwW7XCBIFvWXualTYFDC\\nQFsYxeQAjD0VO72b9p/6FYUF/dki0IjcJMUIuPrWqqD9hRhqHAJxE8B4d+tjNXJV\\na6upcdY/z8sVRFbFeGG1AO/Nd11NoS3cfjLDUD37YYU6taZisxwcryRRmiG4tKhm\\n3QIDAQAB\\n-----END PUBLIC KEY-----\\n'\n"
     ]
    }
   ],
   "source": [
    "alice_rsa_private_key = rsa.generate_private_key(\n",
    "    public_exponent=65537,\n",
    "    key_size=2048,\n",
    ")\n",
    "alice_rsa_public_key = alice_rsa_private_key.public_key()\n",
    "alice_rsa_public_key_pem = alice_rsa_public_key.public_bytes(\n",
    "    encoding=serialization.Encoding.PEM,\n",
    "    format=serialization.PublicFormat.SubjectPublicKeyInfo,\n",
    ")\n",
    "print(alice_rsa_public_key_pem)"
   ]
  },
  {
   "cell_type": "markdown",
   "id": "239648b5-0349-4b07-a414-745dc7683c44",
   "metadata": {},
   "source": [
    "#### Share Alice's RSA public key"
   ]
  },
  {
   "cell_type": "code",
   "execution_count": 44,
   "id": "de61564a-ff26-4f39-b5cc-6e3a3f5d16b9",
   "metadata": {},
   "outputs": [],
   "source": [
    "# alice_rsa_public_key --> all\n"
   ]
  },
  {
   "cell_type": "markdown",
   "id": "45433bfb-d272-4d15-9f6c-050a8be5bb10",
   "metadata": {},
   "source": [
    "### Generate RSA signature for Alice's DH key"
   ]
  },
  {
   "cell_type": "code",
   "execution_count": 45,
   "id": "fca950d1-d702-45e7-806e-c86335ab05c9",
   "metadata": {},
   "outputs": [],
   "source": [
    "alice_signature = alice_rsa_private_key.sign(\n",
    "    alice_public_key_bytes,\n",
    "    padding.PSS(mgf=padding.MGF1(hashes.SHA256()), salt_length=padding.PSS.MAX_LENGTH),\n",
    "    hashes.SHA256(),\n",
    ")"
   ]
  },
  {
   "cell_type": "code",
   "execution_count": 46,
   "id": "d5fad69f-71ae-445e-b10d-46f4c2c5c944",
   "metadata": {},
   "outputs": [
    {
     "data": {
      "text/plain": [
       "b'7ffb05c569c6511caa3396487f6fd6b9dfea1acec3134eef55145fcc277e3dae86d14aa479e95942df6bea79ec353d3c7a27b2e56907da75c854b550346e9278b18738c512381b41c00d8026a834e028ddbf25a5bc927027617ea9a69141b94b98501c06e2e5a60a1b24a5ddc3a406bd784ba65d4788754719c1902df02efdc4e52d127371431e0ed3f754a056f6cd44a1fbb833e6243793a66ca34ea3c4004dc3cf80e8e13e3536327e479bc9831d1c5a269f095b514da5445df2ec224b4321e89194233add149ad8a5328e76adbaa31302168a138ea3c0f26e99dbe94525ebba6de868cca03493154cb497d558f3d9118281dae9cce4d90001cf650670d251'"
      ]
     },
     "execution_count": 46,
     "metadata": {},
     "output_type": "execute_result"
    }
   ],
   "source": [
    "hexlify(alice_signature)"
   ]
  },
  {
   "cell_type": "markdown",
   "id": "aab7b75c-c748-4e50-9c69-2431bb7b69ba",
   "metadata": {},
   "source": [
    "# Bob side"
   ]
  },
  {
   "cell_type": "markdown",
   "id": "0068756a-fe22-414c-b98a-cc2e25f81aee",
   "metadata": {},
   "source": [
    "### Generate DH public/private keys"
   ]
  },
  {
   "cell_type": "code",
   "execution_count": 47,
   "id": "8d8981dd-e22d-49d3-a45f-430697a0329c",
   "metadata": {},
   "outputs": [
    {
     "name": "stdout",
     "output_type": "stream",
     "text": [
      "Key size: 2048\n",
      "Key type: <class 'int'>\n",
      "Value: b'C\\x96\\xd6\\x90\\xe1\\xee\\xba\\xde:6dT.\\x9a\\x8ex\\x19.Cl{\\x1d\\xda\\x18\\xbd\\xbf\\x1a\\xa2\\x8f\\x8a$[\\x06\\xeb\\xa1\\xdc\\x11B\\x11\\x9b\\xe4\\x90\\xe6\\xf4\\xbe\\xd8Z\\x93a\\xbc\\xac0\\xc2\\xdc\\xdbMH\\xf6c\\xddA\\xbb~\\x85\\xe2/\\xba\\x1eD\\x93\\'\\x13\\x0b\\xce}(\\xc3\\xf1MG\\xfc\"\\xed\\xf8\\xfe\\x8f\\x1f[\\xe5\\xf6\\xc3\\x98\\xa8Fg\\xc2\\xd3J&\\x9a^\\x95zC\\x11\\x1c\\xf9\\xe4nm\\x960B\\xc1l-B\\x9b\\xa4\\xe3\\x82z\\xd7\\x1e\\xe5\\xd3.\\xd6{\\xc3h\\xf8Y\\xcaw\\x9bx_L]\\x8dK&V\\xa2\\xc8#\\x9a\\xb3\\xfc?\\xcd\\xa2\\xa4S\\xbb<\\xe1G\"@\\x04v\\x9b\\xb7U\\xe3F_\\x82-\\x7fHi\\xe7\\x02\\x92\\xe6\\xb2\\xe3e\\xf2\\xeb\\xe4l\\x0b\\x17\\xe1\\x1f\\xd7\\xa6\\xe1\\x08\\xa6u\\x97\\x1aqU\\x014\\x06\\xd6\\xb7\\x1c3\\xe6\\xb2\\xcbZ@\\x04|\\x9a\\x16f\\xff\\xe3\\xda\\x9d9\\'5?E\\xab\\x85\\xef\\x1bs\\xb3\\\\B\\x7f\\xa4\\xe5\\xc1S\\x822;\\xbf\\xce\\x1d\\xc9\\xa3LOf\\xf3Y[\\x90\\xb8\\x12\\x96'\n"
     ]
    }
   ],
   "source": [
    "bob_private_key = parameters.generate_private_key()  # b\n",
    "bob_public_key = bob_private_key.public_key()  # g^b\n",
    "bob_public_key_bytes = bob_public_key.public_numbers().y.to_bytes(2048 // 8, 'big')\n",
    "\n",
    "print(f\"Key size: {bob_public_key.key_size}\")\n",
    "print(f\"Key type: {type(bob_public_key.public_numbers().y)}\")\n",
    "print(f\"Value: {bob_public_key_bytes}\")"
   ]
  },
  {
   "cell_type": "markdown",
   "id": "9cd1930e-d9ee-464c-9104-4e4de1b05c81",
   "metadata": {},
   "source": [
    "### Generate RSA public/private pair"
   ]
  },
  {
   "cell_type": "code",
   "execution_count": 48,
   "id": "f3f99410-d32e-4096-bf19-45dd66440f64",
   "metadata": {},
   "outputs": [],
   "source": [
    "bob_rsa_private_key = rsa.generate_private_key(\n",
    "    public_exponent=65537,\n",
    "    key_size=2048,\n",
    ")\n",
    "bob_rsa_public_key = bob_rsa_private_key.public_key()"
   ]
  },
  {
   "cell_type": "markdown",
   "id": "cd7b9906-dd73-49b3-98f7-525453d3e5f0",
   "metadata": {},
   "source": [
    "#### Share Bob's RSA public key"
   ]
  },
  {
   "cell_type": "code",
   "execution_count": 49,
   "id": "95abda77-3fc1-4cdf-be1e-a586aee40d8d",
   "metadata": {},
   "outputs": [],
   "source": [
    "# bob_rsa_public_key --> all"
   ]
  },
  {
   "cell_type": "code",
   "execution_count": 50,
   "id": "60c86e10-740f-4b55-ad16-b3ce4501eedc",
   "metadata": {},
   "outputs": [
    {
     "name": "stdout",
     "output_type": "stream",
     "text": [
      "b'-----BEGIN PUBLIC KEY-----\\nMIIBIjANBgkqhkiG9w0BAQEFAAOCAQ8AMIIBCgKCAQEAvwfG4ZIrk2uj74a+GchH\\nf3WBPESQosjYwCkOzxlrPXvnMWEbfE8LraoMeXmEBLkUQN6MPMZeBX8d4V2ViKdy\\nn3hYY4ohMp2uf3j2AC54T72QIPooEPIGgiJxhcwJyvuGmqVtcUjXI7MQtNTFBprP\\nSzfeVJCYeVbA2PS/u4zufTinrSkB5KEwgCVZ7bFYGNOsFama0gphAF4jqivrzPDE\\nf7U1Frz3+EsTV5P2UPp9edmGUlU4GYugsqyizPi3G9AbMIpMwMNCO8UJnVXDtxu0\\nvz3hoWwnEoESQjhWv1Z87STLRibU5pfR+E8q9654Uv02LjAQ7F5f66pfVsZtjGJy\\nLwIDAQAB\\n-----END PUBLIC KEY-----\\n'\n"
     ]
    }
   ],
   "source": [
    "bob_rsa_public_key_pem = bob_rsa_public_key.public_bytes(\n",
    "    encoding=serialization.Encoding.PEM,\n",
    "    format=serialization.PublicFormat.SubjectPublicKeyInfo,\n",
    ")\n",
    "print(bob_rsa_public_key_pem)"
   ]
  },
  {
   "cell_type": "markdown",
   "id": "eb599506-74ed-4c01-9efb-54260386ba5e",
   "metadata": {},
   "source": [
    "### Generate RSA signature for Bob's DH key"
   ]
  },
  {
   "cell_type": "code",
   "execution_count": 51,
   "id": "6b2b0d45-70e7-491c-be23-5bb74eaca6e6",
   "metadata": {},
   "outputs": [
    {
     "data": {
      "text/plain": [
       "b'6e8b96456816e30577123de8a96b4f6c5e5f186266df4f01df9a5b9feb7bcffa5acb583352063a6a65a4847157be11afe7715c3081ccafd2daf43c466f1ff4655633a2d262bd0a5017c7e7efbbd99621c308d6dc9add1712adab84dcc8d48a70d5a4ba8588881413420e02be4dcca4c8f37baff2581e609fdc9a9efb6636959c2066c6c33da75fdab3f0518088922c41b68be5f0cca3ee7d279413958759f25fce0b1705403c6ea5158d16d805fe310be73060cf5c4d0af28922002bb80dc9491558196f2ba6aa8b379a1970c6bf595aad026f848fcdc21f774f03fbd7689d3eacb5fe122a6b0e2be7f736a52dbbdd7e990c2c9492f736c909b9b7848b44438b'"
      ]
     },
     "execution_count": 51,
     "metadata": {},
     "output_type": "execute_result"
    }
   ],
   "source": [
    "bob_signature = bob_rsa_private_key.sign(\n",
    "    bob_public_key_bytes,\n",
    "    padding.PSS(mgf=padding.MGF1(hashes.SHA256()), salt_length=padding.PSS.MAX_LENGTH),\n",
    "    hashes.SHA256(),\n",
    ")\n",
    "\n",
    "hexlify(bob_signature)"
   ]
  },
  {
   "cell_type": "markdown",
   "id": "61725ded-e2b6-44af-bc1d-752902ed0157",
   "metadata": {},
   "source": [
    "### Keys exchange"
   ]
  },
  {
   "cell_type": "code",
   "execution_count": 5,
   "id": "0156c8f8-3b72-4005-8862-782d03873562",
   "metadata": {},
   "outputs": [],
   "source": [
    "# Alice --> Bob:    alice_public_key + signature\n",
    "# Bob --> Alice:    bob_public_key + signature"
   ]
  },
  {
   "cell_type": "code",
   "execution_count": null,
   "id": "f50e47de-618f-4045-92d8-9d4428933c10",
   "metadata": {},
   "outputs": [],
   "source": []
  },
  {
   "cell_type": "markdown",
   "id": "c9b20a77-b809-4355-8462-e0b41bfffbc0",
   "metadata": {},
   "source": [
    "# Check signatures of keys"
   ]
  },
  {
   "cell_type": "markdown",
   "id": "e0e91214-01cb-4b4e-944d-1a0d60e2511d",
   "metadata": {},
   "source": [
    "#### Verify Alice DH public key vs signature"
   ]
  },
  {
   "cell_type": "code",
   "execution_count": 53,
   "id": "fdbad204-875d-4ca5-930e-cbf1014a9cd1",
   "metadata": {},
   "outputs": [
    {
     "name": "stdout",
     "output_type": "stream",
     "text": [
      "Alice DH key verification is passed: True\n"
     ]
    }
   ],
   "source": [
    "res = alice_rsa_public_key.verify(\n",
    "    alice_signature,\n",
    "    alice_public_key_bytes,\n",
    "    padding.PSS(mgf=padding.MGF1(hashes.SHA256()), salt_length=padding.PSS.MAX_LENGTH),\n",
    "    hashes.SHA256(),\n",
    ") is None\n",
    "print(f\"Alice DH key verification is passed: {res}\")"
   ]
  },
  {
   "cell_type": "markdown",
   "id": "622558a1-9466-4077-9d38-641bb756b9e5",
   "metadata": {},
   "source": [
    "#### Verify Bob DH public key vs signature"
   ]
  },
  {
   "cell_type": "code",
   "execution_count": 57,
   "id": "e53a39cf-9351-487d-88dd-7ff72df62d83",
   "metadata": {},
   "outputs": [
    {
     "name": "stdout",
     "output_type": "stream",
     "text": [
      "Bob DH key verification is passed: True\n"
     ]
    }
   ],
   "source": [
    "res = bob_rsa_public_key.verify(\n",
    "    bob_signature,\n",
    "    bob_public_key_bytes,\n",
    "    padding.PSS(mgf=padding.MGF1(hashes.SHA256()), salt_length=padding.PSS.MAX_LENGTH),\n",
    "    hashes.SHA256(),\n",
    ") is None\n",
    "print(f\"Bob DH key verification is passed: {res}\")"
   ]
  },
  {
   "cell_type": "code",
   "execution_count": null,
   "id": "476d143a-8090-4673-a5c5-ee8d9c4bbf4b",
   "metadata": {},
   "outputs": [],
   "source": []
  },
  {
   "cell_type": "markdown",
   "id": "b53051e1-86d1-43bc-a53f-f737d5277e67",
   "metadata": {},
   "source": [
    "### Generate shared simmetric key"
   ]
  },
  {
   "cell_type": "code",
   "execution_count": 6,
   "id": "59b94d05-165e-424e-8682-fadf6db2e1ef",
   "metadata": {},
   "outputs": [
    {
     "name": "stdout",
     "output_type": "stream",
     "text": [
      "\n",
      "Shared secret value:\n",
      " b'35719226307d933245cdb8c938287592c5195bffaf95d88d97fb26ed72f859bbe50840ef38498204c293bb6470e352b03dabaee11acdea73d68935ee92e0aa6192d3afa0d2ba719c147df6a375e1052cb9ffb88a5fd6d8a4956292ab47eaeb643ef5c52e0f4b9bde207b9a2b81d40729146718ce64c34d4c2a86ede86e7f7ecd10f6d2f6244462ce74350cf1d7254d49d19f8c1a44b37101ad646c42f55cd7cfda17feab10ff39f2d6471c41499ab279395e2d109017869d3aa2205141090ef38a675e2a8863a6b28c9f6a40ae009049dce5208166c951d194ba043a15212a7846fbd25511b378fb19c4b65c43bd439730abf07d6ae1429dbd9fa7ff8d43099b'\n",
      "\n",
      "Derived secret key:\n",
      " b'0ac5cc0a823b7df6d62aeb803292326ed985844e3a13924659925a0247868336'\n"
     ]
    }
   ],
   "source": [
    "# Alice\n",
    "alice_shared_value = alice_private_key.exchange(bob_public_key)\n",
    "print(\"\\nShared secret value:\\n\", hexlify(alice_shared_value))\n",
    "alice_derived_key = HKDF(\n",
    "    algorithm=hashes.SHA256(),\n",
    "    length=32,\n",
    "    salt=None,  # Важливо не додавати рандомізацію для отримання однакового ключа з обох сторін.\n",
    "    info=b\"handshake data\",\n",
    ").derive(alice_shared_value)\n",
    "print(\"\\nDerived secret key:\\n\", hexlify(alice_derived_key))"
   ]
  },
  {
   "cell_type": "code",
   "execution_count": 7,
   "id": "77d91b64-8292-4df7-b7a5-911cd7ff7df8",
   "metadata": {},
   "outputs": [
    {
     "name": "stdout",
     "output_type": "stream",
     "text": [
      "\n",
      "Shared secret value:\n",
      " b'35719226307d933245cdb8c938287592c5195bffaf95d88d97fb26ed72f859bbe50840ef38498204c293bb6470e352b03dabaee11acdea73d68935ee92e0aa6192d3afa0d2ba719c147df6a375e1052cb9ffb88a5fd6d8a4956292ab47eaeb643ef5c52e0f4b9bde207b9a2b81d40729146718ce64c34d4c2a86ede86e7f7ecd10f6d2f6244462ce74350cf1d7254d49d19f8c1a44b37101ad646c42f55cd7cfda17feab10ff39f2d6471c41499ab279395e2d109017869d3aa2205141090ef38a675e2a8863a6b28c9f6a40ae009049dce5208166c951d194ba043a15212a7846fbd25511b378fb19c4b65c43bd439730abf07d6ae1429dbd9fa7ff8d43099b'\n"
     ]
    }
   ],
   "source": [
    "# Bob\n",
    "bob_shared_value = bob_private_key.exchange(alice_public_key)\n",
    "print(\"\\nShared secret value:\\n\", hexlify(bob_shared_value))\n",
    "bob_derived_key = HKDF(\n",
    "    algorithm=hashes.SHA256(),\n",
    "    length=32,\n",
    "    salt=None,  # Важливо не додавати рандомізацію для отримання однакового ключа з обох сторін.\n",
    "    info=b\"handshake data\",\n",
    ").derive(bob_shared_value)"
   ]
  },
  {
   "cell_type": "code",
   "execution_count": null,
   "id": "8b68542a-aaea-4b30-8aa4-5701997be7e3",
   "metadata": {},
   "outputs": [],
   "source": []
  }
 ],
 "metadata": {
  "kernelspec": {
   "display_name": "Python 3 (ipykernel)",
   "language": "python",
   "name": "python3"
  },
  "language_info": {
   "codemirror_mode": {
    "name": "ipython",
    "version": 3
   },
   "file_extension": ".py",
   "mimetype": "text/x-python",
   "name": "python",
   "nbconvert_exporter": "python",
   "pygments_lexer": "ipython3",
   "version": "3.10.12"
  }
 },
 "nbformat": 4,
 "nbformat_minor": 5
}
