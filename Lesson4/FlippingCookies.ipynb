{
 "cells": [
  {
   "cell_type": "code",
   "execution_count": 1,
   "id": "773bd129-c83a-468d-af90-5c5bda981416",
   "metadata": {},
   "outputs": [],
   "source": [
    "from binascii import hexlify\n",
    "import requests\n",
    "import json"
   ]
  },
  {
   "cell_type": "markdown",
   "id": "641a2974-6841-4269-99ae-84d21dbbe872",
   "metadata": {},
   "source": [
    "### Get cookie"
   ]
  },
  {
   "cell_type": "code",
   "execution_count": 70,
   "id": "f07dc842-f0e4-4331-bc0d-9fc1f6c7daa8",
   "metadata": {},
   "outputs": [],
   "source": [
    "def getCookie():\n",
    "    url = \"https://aes.cryptohack.org/flipping_cookie/get_cookie/\"\n",
    "    r = requests.get(url)\n",
    "    ct = (json.loads(r.text))[\"cookie\"]\n",
    "    return ct\n"
   ]
  },
  {
   "cell_type": "code",
   "execution_count": 71,
   "id": "c8af908d-c002-4d1e-89b2-bc62dd1ab2de",
   "metadata": {},
   "outputs": [
    {
     "data": {
      "text/plain": [
       "'855de393fee040a8c3d911ee28675bc1ffdef6335eb068721e015a2da9355d1e38cfb51796870daa0c789534ecfb663b'"
      ]
     },
     "execution_count": 71,
     "metadata": {},
     "output_type": "execute_result"
    }
   ],
   "source": [
    "cipher = getCookie()\n",
    "cipher"
   ]
  },
  {
   "cell_type": "code",
   "execution_count": 72,
   "id": "52fb3fdc-5ad9-41a5-8e05-3405ac824c40",
   "metadata": {},
   "outputs": [
    {
     "data": {
      "text/plain": [
       "(64,\n",
       " 32,\n",
       " '855de393fee040a8c3d911ee28675bc1',\n",
       " 'ffdef6335eb068721e015a2da9355d1e38cfb51796870daa0c789534ecfb663b')"
      ]
     },
     "execution_count": 72,
     "metadata": {},
     "output_type": "execute_result"
    }
   ],
   "source": [
    "iv = cipher[:32]\n",
    "cookie = cipher[32:]\n",
    "len(cookie), len(iv), iv, cookie "
   ]
  },
  {
   "cell_type": "markdown",
   "id": "5f837ded-0258-44d3-bbc5-8c322d2c8be4",
   "metadata": {},
   "source": [
    "### Get the first block of the cookie"
   ]
  },
  {
   "cell_type": "code",
   "execution_count": 78,
   "id": "d59622a9-7a64-47a0-a0ac-c0ca4fd4b554",
   "metadata": {},
   "outputs": [
    {
     "data": {
      "text/plain": [
       "('admin=False;expi', b'61646d696e3d46616c73653b65787069')"
      ]
     },
     "execution_count": 78,
     "metadata": {},
     "output_type": "execute_result"
    }
   ],
   "source": [
    "cookie_encoded = \"admin=False;expiry=\"[:16]\n",
    "cookie_encoded, hexlify(cookie_encoded.encode())"
   ]
  },
  {
   "cell_type": "code",
   "execution_count": 79,
   "id": "569cf446-837c-4b73-9eef-2f7c75505cfa",
   "metadata": {},
   "outputs": [
    {
     "data": {
      "text/plain": [
       "(b'61646d696e3d46616c73653b65787069', '855de393fee040a8c3d911ee28675bc1')"
      ]
     },
     "execution_count": 79,
     "metadata": {},
     "output_type": "execute_result"
    }
   ],
   "source": [
    "P = hexlify(cookie_encoded.encode())\n",
    "P, iv"
   ]
  },
  {
   "cell_type": "markdown",
   "id": "2a5f7a50-a09b-4107-a484-461dda723997",
   "metadata": {},
   "source": [
    "### Calc the value `T` just before XOR in the decript block"
   ]
  },
  {
   "cell_type": "code",
   "execution_count": 80,
   "id": "59f2cb18-d1d1-4ba4-93ac-c6cf3490b57b",
   "metadata": {},
   "outputs": [
    {
     "data": {
      "text/plain": [
       "('e4398efa90dd06c9afaa74d54d1f2ba8', 32)"
      ]
     },
     "execution_count": 80,
     "metadata": {},
     "output_type": "execute_result"
    }
   ],
   "source": [
    "T = int(P, 16) ^ int(iv, 16)\n",
    "T_hex = '{:x}'.format(T)\n",
    "T_hex, len(T_hex)"
   ]
  },
  {
   "cell_type": "markdown",
   "id": "736d4a5f-259f-4eae-b350-82a9df255545",
   "metadata": {},
   "source": [
    "### Get the first block we need "
   ]
  },
  {
   "cell_type": "code",
   "execution_count": 81,
   "id": "44e89a36-d179-41b6-8c61-b30b75b2c1c0",
   "metadata": {},
   "outputs": [
    {
     "data": {
      "text/plain": [
       "('admin=True; expi', b'61646d696e3d547275653b2065787069')"
      ]
     },
     "execution_count": 81,
     "metadata": {},
     "output_type": "execute_result"
    }
   ],
   "source": [
    "cookie_target = \"admin=True; expiry=\"[:16]\n",
    "cookie_target, hexlify(cookie_target.encode())"
   ]
  },
  {
   "cell_type": "markdown",
   "id": "8680640b-6a26-4497-9e50-32bb3c639af1",
   "metadata": {},
   "source": [
    "### Calc `IV` for the block we need"
   ]
  },
  {
   "cell_type": "code",
   "execution_count": 82,
   "id": "0a4d86bd-edf2-4298-9714-c0cc63c1d3d2",
   "metadata": {},
   "outputs": [
    {
     "data": {
      "text/plain": [
       "('855de393fee052bbdacf4ff528675bc1', 32)"
      ]
     },
     "execution_count": 82,
     "metadata": {},
     "output_type": "execute_result"
    }
   ],
   "source": [
    "P2 = hexlify(cookie_target.encode())\n",
    "IV_new = int(P2, 16) ^ int(T_hex, 16)\n",
    "IV_new_hex = '{:x}'.format(IV_new)\n",
    "IV_new_hex, len(IV_new_hex)"
   ]
  },
  {
   "cell_type": "markdown",
   "id": "454088d9-5ce6-48dc-8a9b-a0c1db7f79ee",
   "metadata": {},
   "source": [
    "### Query for the FLAG"
   ]
  },
  {
   "cell_type": "code",
   "execution_count": 84,
   "id": "7b26a027-b0f4-4c9f-9639-85d85d582ddc",
   "metadata": {},
   "outputs": [
    {
     "data": {
      "text/plain": [
       "'{\"flag\":\"crypto{4u7h3n71c4710n_15_3553n714l}\"}\\n'"
      ]
     },
     "execution_count": 84,
     "metadata": {},
     "output_type": "execute_result"
    }
   ],
   "source": [
    "def checkAdmin(cookie, iv):\n",
    "    url = f\"https://aes.cryptohack.org/flipping_cookie/check_admin/{cookie}/{iv}/\"\n",
    "    r = requests.get(url)\n",
    "    #ct = (json.loads(r.text))[\"flag\"]\n",
    "    return r.text # ct\n",
    "\n",
    "checkAdmin(cookie, IV_new_hex)"
   ]
  },
  {
   "cell_type": "code",
   "execution_count": null,
   "id": "b0465855-fa78-45e9-813a-477339fe7be3",
   "metadata": {},
   "outputs": [],
   "source": []
  }
 ],
 "metadata": {
  "kernelspec": {
   "display_name": "Python 3 (ipykernel)",
   "language": "python",
   "name": "python3"
  },
  "language_info": {
   "codemirror_mode": {
    "name": "ipython",
    "version": 3
   },
   "file_extension": ".py",
   "mimetype": "text/x-python",
   "name": "python",
   "nbconvert_exporter": "python",
   "pygments_lexer": "ipython3",
   "version": "3.10.12"
  }
 },
 "nbformat": 4,
 "nbformat_minor": 5
}
