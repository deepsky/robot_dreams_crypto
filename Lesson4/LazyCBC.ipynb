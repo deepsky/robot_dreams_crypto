{
 "cells": [
  {
   "cell_type": "code",
   "execution_count": 1,
   "id": "2319a038-4f75-4a6d-b379-1ef40daa8e05",
   "metadata": {},
   "outputs": [],
   "source": [
    "from binascii import hexlify\n",
    "import requests\n",
    "import json"
   ]
  },
  {
   "cell_type": "markdown",
   "id": "c28f71d8-a7d3-4cea-8ee1-fd0e13f9ff5b",
   "metadata": {},
   "source": [
    "### Encrypt random text"
   ]
  },
  {
   "cell_type": "code",
   "execution_count": 18,
   "id": "f4192bbd-457f-470b-b4d0-106538879555",
   "metadata": {},
   "outputs": [],
   "source": [
    "def encrypt(text):\n",
    "    url = f\"https://aes.cryptohack.org/lazy_cbc/encrypt/{text}/\"\n",
    "    r = requests.get(url)\n",
    "    # ct = (json.loads(r.text))[\"ciphertext\"]\n",
    "    return r.text # ct"
   ]
  },
  {
   "cell_type": "code",
   "execution_count": 22,
   "id": "baf0b11e-8488-4601-aec8-eb8fac87b3f1",
   "metadata": {},
   "outputs": [
    {
     "data": {
      "text/plain": [
       "'{\"ciphertext\":\"94fcd69cf1332823e5a249f58ec4304e\"}\\n'"
      ]
     },
     "execution_count": 22,
     "metadata": {},
     "output_type": "execute_result"
    }
   ],
   "source": [
    "response = encrypt(\"abcd123456789012abcd123456789012\")#.encode())\n",
    "response"
   ]
  },
  {
   "cell_type": "code",
   "execution_count": 25,
   "id": "39e82876-3da3-4e4a-9694-e73f63e58938",
   "metadata": {},
   "outputs": [
    {
     "data": {
      "text/plain": [
       "('94fcd69cf1332823e5a249f58ec4304e',\n",
       " '94fcd69cf1332823e5a249f58ec4304e94fcd69cf1332823e5a249f58ec4304e')"
      ]
     },
     "execution_count": 25,
     "metadata": {},
     "output_type": "execute_result"
    }
   ],
   "source": [
    "cypher = json.loads(response)[\"ciphertext\"]\n",
    "cypher, cypher*2"
   ]
  },
  {
   "cell_type": "markdown",
   "id": "acabf39b-7943-4a1a-89e5-3c80e18a04f5",
   "metadata": {},
   "source": [
    "### Check cypher text by doubling the cypher received on the previous step"
   ]
  },
  {
   "cell_type": "code",
   "execution_count": 29,
   "id": "3dc3d52f-a7ca-4444-960d-fa58b29df1fb",
   "metadata": {},
   "outputs": [],
   "source": [
    "def receive(cyphertext):\n",
    "    url = f\"https://aes.cryptohack.org/lazy_cbc/receive/{cyphertext}/\"\n",
    "    r = requests.get(url)\n",
    "    return r.text # ct"
   ]
  },
  {
   "cell_type": "code",
   "execution_count": 30,
   "id": "345f27cf-89b1-4b68-88c7-20a8bc6f36c2",
   "metadata": {},
   "outputs": [
    {
     "data": {
      "text/plain": [
       "'{\"error\":\"Invalid plaintext: abcd123456789012abcd123456789012d437dd8437c1911a930fbbbd92266dea\"}\\n'"
      ]
     },
     "execution_count": 30,
     "metadata": {},
     "output_type": "execute_result"
    }
   ],
   "source": [
    "receive(cypher*2)"
   ]
  },
  {
   "cell_type": "code",
   "execution_count": 32,
   "id": "5b6c6af0-1183-4756-96e7-09e2a2416caa",
   "metadata": {},
   "outputs": [
    {
     "data": {
      "text/plain": [
       "64"
      ]
     },
     "execution_count": 32,
     "metadata": {},
     "output_type": "execute_result"
    }
   ],
   "source": [
    "err_response = 'abcd123456789012abcd123456789012d437dd8437c1911a930fbbbd92266dea'\n",
    "len(err_response)"
   ]
  },
  {
   "cell_type": "markdown",
   "id": "589b8678-abe5-4b19-a3b1-71a5fef22fa1",
   "metadata": {},
   "source": [
    "### Analyse the response: split the response on two blocks and calc the key "
   ]
  },
  {
   "cell_type": "code",
   "execution_count": 37,
   "id": "b01d2ad2-9e1f-4105-a8cc-c139506e3a1b",
   "metadata": {},
   "outputs": [
    {
     "data": {
      "text/plain": [
       "('eb06192c908a292bdd60e07c4a9acdb6', 32)"
      ]
     },
     "execution_count": 37,
     "metadata": {},
     "output_type": "execute_result"
    }
   ],
   "source": [
    "P0 = err_response[:32]\n",
    "P1 = err_response[32:]\n",
    "K = int(P0, 16) ^ int(P1, 16) ^ int(cypher, 16)\n",
    "K_hex = '{:x}'.format(K)\n",
    "K_hex, len(K_hex)"
   ]
  },
  {
   "cell_type": "markdown",
   "id": "a137447e-340e-420c-b872-69c26b234df5",
   "metadata": {},
   "source": [
    "### Given the key query a flag"
   ]
  },
  {
   "cell_type": "code",
   "execution_count": 39,
   "id": "5e15ed7c-b65b-4652-810c-8913f0f07af1",
   "metadata": {},
   "outputs": [],
   "source": [
    "def get_flag(key):\n",
    "    url = f\"https://aes.cryptohack.org/lazy_cbc/get_flag/{key}/\"\n",
    "    r = requests.get(url)\n",
    "    # ct = (json.loads(r.text))[\"ciphertext\"]\n",
    "    return r.text # ct"
   ]
  },
  {
   "cell_type": "code",
   "execution_count": 41,
   "id": "87010927-0ce4-46c6-a190-a84870ec472f",
   "metadata": {},
   "outputs": [
    {
     "data": {
      "text/plain": [
       "'{\"plaintext\":\"63727970746f7b35306d335f703330706c335f64306e375f3768316e6b5f49565f31355f316d70307237346e375f3f7d\"}\\n'"
      ]
     },
     "execution_count": 41,
     "metadata": {},
     "output_type": "execute_result"
    }
   ],
   "source": [
    "flag_json = get_flag('eb06192c908a292bdd60e07c4a9acdb6')\n",
    "flag_json"
   ]
  },
  {
   "cell_type": "markdown",
   "id": "9cefabc7-c588-4388-9ac1-be00d1e041ad",
   "metadata": {},
   "source": [
    "### Conver the flag to string"
   ]
  },
  {
   "cell_type": "code",
   "execution_count": 53,
   "id": "678f2ec8-0109-4735-9c70-2fc159a1c9a1",
   "metadata": {},
   "outputs": [
    {
     "data": {
      "text/plain": [
       "'crypto{50m3_p30pl3_d0n7_7h1nk_IV_15_1mp0r74n7_?}'"
      ]
     },
     "execution_count": 53,
     "metadata": {},
     "output_type": "execute_result"
    }
   ],
   "source": [
    "hex_str = json.loads(flag_json)[\"plaintext\"]\n",
    "\n",
    "res_string = []\n",
    "for i in range(int(len(hex_str)/2)):\n",
    "    # c = hex_str[i*2:i*2+2]\n",
    "    c = chr(int(hex_str[i*2:i*2+2], 16))\n",
    "    res_string.append(c)\n",
    "\n",
    "''.join(res_string)"
   ]
  },
  {
   "cell_type": "code",
   "execution_count": null,
   "id": "0ed06188-e33f-4a4b-873f-6b251fb58ea8",
   "metadata": {},
   "outputs": [],
   "source": []
  }
 ],
 "metadata": {
  "kernelspec": {
   "display_name": "Python 3 (ipykernel)",
   "language": "python",
   "name": "python3"
  },
  "language_info": {
   "codemirror_mode": {
    "name": "ipython",
    "version": 3
   },
   "file_extension": ".py",
   "mimetype": "text/x-python",
   "name": "python",
   "nbconvert_exporter": "python",
   "pygments_lexer": "ipython3",
   "version": "3.10.12"
  }
 },
 "nbformat": 4,
 "nbformat_minor": 5
}
