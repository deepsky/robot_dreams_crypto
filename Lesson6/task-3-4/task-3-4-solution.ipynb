{
 "cells": [
  {
   "cell_type": "code",
   "execution_count": 1,
   "id": "4cf20665-6b46-4997-ab73-fedfee16e92f",
   "metadata": {},
   "outputs": [],
   "source": [
    "from Crypto.Util.number import getPrime, inverse, bytes_to_long, long_to_bytes\n"
   ]
  },
  {
   "cell_type": "markdown",
   "id": "51a2fa24-40af-474e-af49-b0bc8e17c2a9",
   "metadata": {},
   "source": [
    "# Task 3"
   ]
  },
  {
   "cell_type": "markdown",
   "id": "1bff1da8-35ae-49d5-965c-b8d5f9602fde",
   "metadata": {},
   "source": [
    "### Given"
   ]
  },
  {
   "cell_type": "code",
   "execution_count": 2,
   "id": "1f19026a-a57b-4223-819c-08e425f1ccd7",
   "metadata": {},
   "outputs": [],
   "source": [
    "n = 89130176363968657187562046515332781879906710777886742664996031757940362853930049819009596594982246571669482031940134479813793328701373238273415076270891142859666516439231904521557755729322490606876589914024096621194962329718893576886641536066926542462448229133783052051407061075447588804617825930836181625077\n",
    "ct = 9525146106593233668246438912833048755472216768584708733\n",
    "e = 1\n",
    "\n",
    "# There is no padding"
   ]
  },
  {
   "cell_type": "markdown",
   "id": "c5ed731a-362c-47ba-8d8c-35f6eed11d55",
   "metadata": {},
   "source": [
    "If `e` == 1 then the inverse of `e` - private key `d' is also is 1"
   ]
  },
  {
   "cell_type": "code",
   "execution_count": 3,
   "id": "6fa8a775-64ed-4d63-9254-bc0c37a370d3",
   "metadata": {},
   "outputs": [
    {
     "data": {
      "text/plain": [
       "b'crypto{saltstack_power}'"
      ]
     },
     "execution_count": 3,
     "metadata": {},
     "output_type": "execute_result"
    }
   ],
   "source": [
    "d = 1\n",
    "pt = pow(ct, d, n)\n",
    "decrypted = long_to_bytes(pt)\n",
    "\n",
    "decrypted"
   ]
  },
  {
   "cell_type": "markdown",
   "id": "c960c9a8-322d-4ca7-bc92-00bd3c4f8044",
   "metadata": {},
   "source": [
    "### Decrypted message: `crypto{saltstack_power}`"
   ]
  },
  {
   "cell_type": "code",
   "execution_count": null,
   "id": "799fbe7e-2dbd-4798-b781-9ec11ddd192c",
   "metadata": {},
   "outputs": [],
   "source": []
  },
  {
   "cell_type": "markdown",
   "id": "278b22ef-fb71-405f-bbb9-7a0af49170f5",
   "metadata": {},
   "source": [
    "# Task 4"
   ]
  },
  {
   "cell_type": "markdown",
   "id": "4a8267da-d285-4f2e-8465-56a053f9e697",
   "metadata": {},
   "source": [
    "### Given"
   ]
  },
  {
   "cell_type": "code",
   "execution_count": 4,
   "id": "2680a12c-45a6-4f7e-b58b-770ed313816b",
   "metadata": {},
   "outputs": [],
   "source": [
    "n = 30460296206281253605887131667441042408833105116654370140736576080711297109384941590369941855116386695157474206375705248890458232777575365270780855265861075198881090190505284920581410885950363830131451127387018904728639607372668753109249046707840464876881594185896506371262697868257217488062754637361594352910022190227237953540282162231147699265142164623465337280610190892470279654386272723760887111753067292988287956381022028725288845603024605833650847697724636088418782911705757980221361510892370739837402705040814150778298018509675199917931423568797098139493145394232981571448400646089157848498064505852923746440139\n",
    "e = 3\n",
    "ct = 183001753190025751114220069887230720857448492282044619321040127443487542179613757444809112210217896463899655491288132907560322811734646233820773\n",
    "\n",
    "# There is no padding\n",
    "# len(ct) << len(n)"
   ]
  },
  {
   "cell_type": "markdown",
   "id": "294623ae-ff92-4428-a5a0-586cb48c3c60",
   "metadata": {},
   "source": [
    "So, we can discard `mod n` and just find a cubic root of cypher "
   ]
  },
  {
   "cell_type": "code",
   "execution_count": 5,
   "id": "48f09e9e-60d6-4988-b713-44ecffc5a29b",
   "metadata": {},
   "outputs": [],
   "source": [
    "from sympy import integer_nthroot"
   ]
  },
  {
   "cell_type": "code",
   "execution_count": 6,
   "id": "715d9735-ee62-481d-bfc3-772646ec5b7f",
   "metadata": {},
   "outputs": [
    {
     "data": {
      "text/plain": [
       "(567742950117184738337379685229950153369913750397, True)"
      ]
     },
     "execution_count": 6,
     "metadata": {},
     "output_type": "execute_result"
    }
   ],
   "source": [
    "integer_nthroot(ct, 3)"
   ]
  },
  {
   "cell_type": "code",
   "execution_count": 7,
   "id": "d117c12f-5f4b-437a-b83d-79e5b39f7eea",
   "metadata": {},
   "outputs": [
    {
     "data": {
      "text/plain": [
       "b'crypto{robot_dreams}'"
      ]
     },
     "execution_count": 7,
     "metadata": {},
     "output_type": "execute_result"
    }
   ],
   "source": [
    "long_to_bytes(567742950117184738337379685229950153369913750397)"
   ]
  },
  {
   "cell_type": "code",
   "execution_count": null,
   "id": "63362feb-482b-4420-9191-1645c8fb146e",
   "metadata": {},
   "outputs": [],
   "source": []
  },
  {
   "cell_type": "markdown",
   "id": "a34e7c2c-2127-4c55-b3de-344f90fd8be5",
   "metadata": {},
   "source": [
    "## Decrypted message: `crypto{robot_dreams}`"
   ]
  },
  {
   "cell_type": "code",
   "execution_count": null,
   "id": "e2681e81-c5f6-4b86-9410-2d693afb7e9b",
   "metadata": {},
   "outputs": [],
   "source": []
  }
 ],
 "metadata": {
  "kernelspec": {
   "display_name": "Python 3 (ipykernel)",
   "language": "python",
   "name": "python3"
  },
  "language_info": {
   "codemirror_mode": {
    "name": "ipython",
    "version": 3
   },
   "file_extension": ".py",
   "mimetype": "text/x-python",
   "name": "python",
   "nbconvert_exporter": "python",
   "pygments_lexer": "ipython3",
   "version": "3.10.12"
  }
 },
 "nbformat": 4,
 "nbformat_minor": 5
}
