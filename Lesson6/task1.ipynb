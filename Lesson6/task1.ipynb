{
 "cells": [
  {
   "cell_type": "code",
   "execution_count": 17,
   "id": "a2afd404-26a4-4aab-98c0-15442bbe308c",
   "metadata": {},
   "outputs": [],
   "source": [
    "from cryptography.hazmat.primitives import serialization, hashes\n",
    "from cryptography.hazmat.primitives.asymmetric import rsa, padding\n",
    "from cryptography.hazmat.primitives.serialization import load_pem_public_key"
   ]
  },
  {
   "cell_type": "markdown",
   "id": "44ca60e3-a616-44ee-a11d-9728093c991f",
   "metadata": {},
   "source": [
    "### Read a file with a message"
   ]
  },
  {
   "cell_type": "code",
   "execution_count": 18,
   "id": "d74f226a-1873-4290-a801-d8d5eef724fe",
   "metadata": {},
   "outputs": [],
   "source": [
    "with open(\"task_message.txt\", \"r\") as msg_file:\n",
    "    message = bytes.fromhex(msg_file.read())"
   ]
  },
  {
   "cell_type": "code",
   "execution_count": 19,
   "id": "8b522057-4cd7-4d10-81e9-1c70660af813",
   "metadata": {},
   "outputs": [
    {
     "data": {
      "text/plain": [
       "b'message'"
      ]
     },
     "execution_count": 19,
     "metadata": {},
     "output_type": "execute_result"
    }
   ],
   "source": [
    "message"
   ]
  },
  {
   "cell_type": "markdown",
   "id": "469c140a-8bb2-4a14-9d36-0b21fc3d8131",
   "metadata": {},
   "source": [
    "### Load Signature"
   ]
  },
  {
   "cell_type": "code",
   "execution_count": 41,
   "id": "ce60921f-dca9-4058-8350-02d10cf18897",
   "metadata": {},
   "outputs": [
    {
     "data": {
      "text/plain": [
       "b'-\\xb0\\xbd\\x1b\\x18\\xa1\\xa7;\\xa5\\x8b\\xab\\x0ffy\\x17\\\\@\\xf8Mv@}\\xf9-\\xcb\\x18{G\\t<\\xc8\\xfa\\x03\\x9b@\\xafJ\\x7f6\\xfbh2\\x86(Ds$\\x81\\xbb/\\xa3G\\xab\\xec\\xcf\\xd0\\x02\\xa4\\xd9\\x90\\xae\\xda\\x8e\\xa3$;T}Clg\\x12\\x87\\xa6\\x14w\\x1a\\x8d&q~\\xc4\\r\\xf9d\\x95\"?\\x84\\xe37\\x7f\\xd5\\xa5\\xae{\\x98\\x06\\xb8 WAzi\\x8b\\xeap\\xb7P\\xaaM\\x15\\xa9\\xce\\x9c\"\\x1dC\\x0b\\x9c\\x01X\\x11\\xbcg\\n{\\xdc\\xf8a\\xfdR\\x1f*\\xc2\\xa6,{9\\x81\\xef\\xd8\\xc2\\xd3\\x8a\\xfe\\xaa\\xfd\\x08\\x1b\\xf7L`\\x8f\\xab\\x17\\xf4uU\\xe1\\xa2!\\x0c\\xfd\\xe1=\\xdf)\\x0b_Mz\\x1d\\xfd\\xf6\\x0b\\xde@1W\\x10\\x88,\\x1c\\xc9\\x90\\x1bGNEXb\\xc2\\xf4\\xe9\\x83\\xa6\\xf4#\\xfd\\x87\\x91?\\x7f\\xc1P\\xd9\\xf5\\xffo.?\\xe0\\xb1\\xf45\\xfa6\\x07\\x9c\\x07\\xdai#\\x9b\\x1b\\xbd\\xb0&0R!\\x83\\xf4v\\xd2\\x8a\\xb2\\x16or0lmPV\\xb1\\xc1\\xe8\\x97\\nC\\x9f\\xceF\\xd9'"
      ]
     },
     "execution_count": 41,
     "metadata": {},
     "output_type": "execute_result"
    }
   ],
   "source": [
    "with open(\"task_signature.txt\", \"r\") as sign_file:\n",
    "    # signature = sign_file.read()\n",
    "    signature = bytes.fromhex(sign_file.read())\n",
    "\n",
    "signature"
   ]
  },
  {
   "cell_type": "markdown",
   "id": "419fdcfb-fe40-450e-ab6c-3447f05751aa",
   "metadata": {},
   "source": [
    "### Load Public Key"
   ]
  },
  {
   "cell_type": "code",
   "execution_count": 37,
   "id": "ed93c307-bb97-4e61-b755-7be544a3e6fd",
   "metadata": {},
   "outputs": [],
   "source": [
    "from cryptography.hazmat.primitives import serialization"
   ]
  },
  {
   "cell_type": "code",
   "execution_count": 38,
   "id": "74f96965-77ec-4ec7-b2ed-b3e6ed865f7a",
   "metadata": {},
   "outputs": [],
   "source": [
    "\n",
    "with open(\"task_pub.pem\", \"rb\") as key_file:\n",
    "    public_key = serialization.load_pem_public_key(\n",
    "        key_file.read()\n",
    "    )"
   ]
  },
  {
   "cell_type": "code",
   "execution_count": 39,
   "id": "14112448-b199-43e9-923c-580a9496027a",
   "metadata": {},
   "outputs": [
    {
     "data": {
      "text/plain": [
       "<cryptography.hazmat.bindings._rust.openssl.rsa.RSAPublicKey at 0x71c7a57f8f10>"
      ]
     },
     "execution_count": 39,
     "metadata": {},
     "output_type": "execute_result"
    }
   ],
   "source": [
    "public_key"
   ]
  },
  {
   "cell_type": "markdown",
   "id": "fbd4d9c4-0789-40cd-ae19-b309dad932bd",
   "metadata": {},
   "source": [
    "### Verify signature. If function returns None then verification of the signature has been passed"
   ]
  },
  {
   "cell_type": "code",
   "execution_count": 46,
   "id": "4177b67d-0902-4161-825c-014bd550261a",
   "metadata": {},
   "outputs": [
    {
     "data": {
      "text/plain": [
       "True"
      ]
     },
     "execution_count": 46,
     "metadata": {},
     "output_type": "execute_result"
    }
   ],
   "source": [
    "res = public_key.verify(\n",
    "    signature,\n",
    "    message,\n",
    "    padding.PSS(\n",
    "        mgf=padding.MGF1(hashes.SHA256()),\n",
    "        salt_length=padding.PSS.MAX_LENGTH\n",
    "    ),\n",
    "    hashes.SHA256()\n",
    ")\n",
    "res is None"
   ]
  },
  {
   "cell_type": "code",
   "execution_count": null,
   "id": "a7abc078-0d56-43d5-b1e5-eb96fd67e5ce",
   "metadata": {},
   "outputs": [],
   "source": []
  },
  {
   "cell_type": "code",
   "execution_count": null,
   "id": "4ea469da-2eb1-421a-b850-13c7af09f1e5",
   "metadata": {},
   "outputs": [],
   "source": []
  }
 ],
 "metadata": {
  "kernelspec": {
   "display_name": "Python 3 (ipykernel)",
   "language": "python",
   "name": "python3"
  },
  "language_info": {
   "codemirror_mode": {
    "name": "ipython",
    "version": 3
   },
   "file_extension": ".py",
   "mimetype": "text/x-python",
   "name": "python",
   "nbconvert_exporter": "python",
   "pygments_lexer": "ipython3",
   "version": "3.10.12"
  }
 },
 "nbformat": 4,
 "nbformat_minor": 5
}
