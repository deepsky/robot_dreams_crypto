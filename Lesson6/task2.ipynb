{
 "cells": [
  {
   "cell_type": "code",
   "execution_count": 2,
   "id": "fcbaf647-47c1-468d-b635-a2f7ac3e8aed",
   "metadata": {},
   "outputs": [],
   "source": [
    "from cryptography.hazmat.primitives import serialization, hashes\n",
    "from cryptography.hazmat.primitives.asymmetric import rsa, padding\n"
   ]
  },
  {
   "cell_type": "markdown",
   "id": "162fc35b-1594-4cfa-8d91-2df529a1a9c2",
   "metadata": {},
   "source": [
    "### Load public key"
   ]
  },
  {
   "cell_type": "code",
   "execution_count": 3,
   "id": "990973b7-9893-4a84-b5d4-c7022c6aa77c",
   "metadata": {},
   "outputs": [],
   "source": [
    "with open(\"task_pub.pem\", \"rb\") as key_file:\n",
    "    public_key = serialization.load_pem_public_key(\n",
    "        key_file.read()\n",
    "    )"
   ]
  },
  {
   "cell_type": "code",
   "execution_count": 6,
   "id": "a9b97f2f-cafc-43e8-9b8c-790e514a323e",
   "metadata": {},
   "outputs": [],
   "source": [
    "message = message_utf8.encode()"
   ]
  },
  {
   "cell_type": "markdown",
   "id": "327e46df-bed0-44e6-9bdc-27c10d1e1c92",
   "metadata": {},
   "source": [
    "### Encrypt and save the mesage"
   ]
  },
  {
   "cell_type": "code",
   "execution_count": 7,
   "id": "2b9bf996-6b25-46ba-bd6c-cd962e626a1e",
   "metadata": {},
   "outputs": [],
   "source": [
    "ciphertext = public_key.encrypt(\n",
    "    message,\n",
    "    padding.OAEP(\n",
    "        mgf=padding.MGF1(algorithm=hashes.SHA256()),\n",
    "        algorithm=hashes.SHA256(),\n",
    "        label=None\n",
    "    )\n",
    ")"
   ]
  },
  {
   "cell_type": "code",
   "execution_count": 8,
   "id": "e2faa1b9-d53e-412b-a44b-d4b88d135f26",
   "metadata": {},
   "outputs": [
    {
     "name": "stdout",
     "output_type": "stream",
     "text": [
      "6ca05e1d8acd55c9a4b611b78c69e59f63a457a928e297ae3551dd9f8b6325f9a405b04cbd08b3e259c5daffd2add3ebebfe4e8e68ab108355756998dd9f5e7db5f2773d19c4a222bc9ce0bdcf20b3cc75f1d7ea389c5eee7039d915ee24aefeb7c7f26147db76e801ea3da5ca4da430c9ff5ef5314cd102b849153cfa01da2fec604993f6d00b8a8c03de6d877b0b7ba1d1d439d706acaf59710cf7fe03a0b30503030e4b51f7bfcd2f43229304939392a390ef652556f4ee456178a4d5b97b570ae90b3ef8854e144fe50a0a5a7767af27611cab5133371e442f74b22c4a4e2ca0e7f5331433e8998fbf520429b1155677c437d76589527cfdd6126d9c5f85\n"
     ]
    }
   ],
   "source": [
    "print(ciphertext.hex())"
   ]
  },
  {
   "cell_type": "code",
   "execution_count": 10,
   "id": "908a49c2-9137-4063-8ca6-53db65ad1047",
   "metadata": {},
   "outputs": [],
   "source": [
    "with open('task-2-message.txt', \"wb\") as message_file:\n",
    "    message_file.write(ciphertext.hex().encode())"
   ]
  },
  {
   "cell_type": "code",
   "execution_count": null,
   "id": "fc4caa05-2987-4983-8284-256d455af7e1",
   "metadata": {},
   "outputs": [],
   "source": []
  }
 ],
 "metadata": {
  "kernelspec": {
   "display_name": "Python 3 (ipykernel)",
   "language": "python",
   "name": "python3"
  },
  "language_info": {
   "codemirror_mode": {
    "name": "ipython",
    "version": 3
   },
   "file_extension": ".py",
   "mimetype": "text/x-python",
   "name": "python",
   "nbconvert_exporter": "python",
   "pygments_lexer": "ipython3",
   "version": "3.10.12"
  }
 },
 "nbformat": 4,
 "nbformat_minor": 5
}
